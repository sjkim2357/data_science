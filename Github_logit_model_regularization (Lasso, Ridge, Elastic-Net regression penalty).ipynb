{
 "cells": [
  {
   "cell_type": "code",
   "execution_count": 1,
   "id": "4e7e2ca1",
   "metadata": {},
   "outputs": [],
   "source": [
    "import pandas as pd\n",
    "import numpy as np\n",
    "import seaborn as sns\n",
    "import matplotlib.pyplot as plt"
   ]
  },
  {
   "cell_type": "markdown",
   "id": "3217a96e",
   "metadata": {},
   "source": [
    "# Data import"
   ]
  },
  {
   "cell_type": "code",
   "execution_count": 2,
   "id": "02272809",
   "metadata": {
    "scrolled": false
   },
   "outputs": [
    {
     "data": {
      "text/html": [
       "<div>\n",
       "<style scoped>\n",
       "    .dataframe tbody tr th:only-of-type {\n",
       "        vertical-align: middle;\n",
       "    }\n",
       "\n",
       "    .dataframe tbody tr th {\n",
       "        vertical-align: top;\n",
       "    }\n",
       "\n",
       "    .dataframe thead th {\n",
       "        text-align: right;\n",
       "    }\n",
       "</style>\n",
       "<table border=\"1\" class=\"dataframe\">\n",
       "  <thead>\n",
       "    <tr style=\"text-align: right;\">\n",
       "      <th></th>\n",
       "      <th>default</th>\n",
       "      <th>student</th>\n",
       "      <th>balance</th>\n",
       "      <th>income</th>\n",
       "    </tr>\n",
       "  </thead>\n",
       "  <tbody>\n",
       "    <tr>\n",
       "      <th>1</th>\n",
       "      <td>No</td>\n",
       "      <td>No</td>\n",
       "      <td>729.526495</td>\n",
       "      <td>44361.625074</td>\n",
       "    </tr>\n",
       "    <tr>\n",
       "      <th>2</th>\n",
       "      <td>No</td>\n",
       "      <td>Yes</td>\n",
       "      <td>817.180407</td>\n",
       "      <td>12106.134700</td>\n",
       "    </tr>\n",
       "    <tr>\n",
       "      <th>3</th>\n",
       "      <td>No</td>\n",
       "      <td>No</td>\n",
       "      <td>1073.549164</td>\n",
       "      <td>31767.138947</td>\n",
       "    </tr>\n",
       "    <tr>\n",
       "      <th>4</th>\n",
       "      <td>No</td>\n",
       "      <td>No</td>\n",
       "      <td>529.250605</td>\n",
       "      <td>35704.493935</td>\n",
       "    </tr>\n",
       "    <tr>\n",
       "      <th>5</th>\n",
       "      <td>No</td>\n",
       "      <td>No</td>\n",
       "      <td>785.655883</td>\n",
       "      <td>38463.495879</td>\n",
       "    </tr>\n",
       "    <tr>\n",
       "      <th>...</th>\n",
       "      <td>...</td>\n",
       "      <td>...</td>\n",
       "      <td>...</td>\n",
       "      <td>...</td>\n",
       "    </tr>\n",
       "    <tr>\n",
       "      <th>9996</th>\n",
       "      <td>No</td>\n",
       "      <td>No</td>\n",
       "      <td>711.555020</td>\n",
       "      <td>52992.378914</td>\n",
       "    </tr>\n",
       "    <tr>\n",
       "      <th>9997</th>\n",
       "      <td>No</td>\n",
       "      <td>No</td>\n",
       "      <td>757.962918</td>\n",
       "      <td>19660.721768</td>\n",
       "    </tr>\n",
       "    <tr>\n",
       "      <th>9998</th>\n",
       "      <td>No</td>\n",
       "      <td>No</td>\n",
       "      <td>845.411989</td>\n",
       "      <td>58636.156984</td>\n",
       "    </tr>\n",
       "    <tr>\n",
       "      <th>9999</th>\n",
       "      <td>No</td>\n",
       "      <td>No</td>\n",
       "      <td>1569.009053</td>\n",
       "      <td>36669.112365</td>\n",
       "    </tr>\n",
       "    <tr>\n",
       "      <th>10000</th>\n",
       "      <td>No</td>\n",
       "      <td>Yes</td>\n",
       "      <td>200.922183</td>\n",
       "      <td>16862.952321</td>\n",
       "    </tr>\n",
       "  </tbody>\n",
       "</table>\n",
       "<p>10000 rows × 4 columns</p>\n",
       "</div>"
      ],
      "text/plain": [
       "      default student      balance        income\n",
       "1          No      No   729.526495  44361.625074\n",
       "2          No     Yes   817.180407  12106.134700\n",
       "3          No      No  1073.549164  31767.138947\n",
       "4          No      No   529.250605  35704.493935\n",
       "5          No      No   785.655883  38463.495879\n",
       "...       ...     ...          ...           ...\n",
       "9996       No      No   711.555020  52992.378914\n",
       "9997       No      No   757.962918  19660.721768\n",
       "9998       No      No   845.411989  58636.156984\n",
       "9999       No      No  1569.009053  36669.112365\n",
       "10000      No     Yes   200.922183  16862.952321\n",
       "\n",
       "[10000 rows x 4 columns]"
      ]
     },
     "execution_count": 2,
     "metadata": {},
     "output_type": "execute_result"
    }
   ],
   "source": [
    "df = pd.read_csv(\"Default.csv\", index_col= [0])\n",
    "df"
   ]
  },
  {
   "cell_type": "code",
   "execution_count": 3,
   "id": "adc71e1d",
   "metadata": {},
   "outputs": [
    {
     "data": {
      "text/plain": [
       "array([['No', 729.526495207286, 44361.6250742669],\n",
       "       ['Yes', 817.180406555498, 12106.1347003149],\n",
       "       ['No', 1073.54916401173, 31767.1389473999],\n",
       "       ...,\n",
       "       ['No', 845.411989217448, 58636.1569838071],\n",
       "       ['No', 1569.00905338372, 36669.1123645833],\n",
       "       ['Yes', 200.922182634797, 16862.9523209407]], dtype=object)"
      ]
     },
     "execution_count": 3,
     "metadata": {},
     "output_type": "execute_result"
    }
   ],
   "source": [
    "X = df.iloc[:, 1:].values\n",
    "X"
   ]
  },
  {
   "cell_type": "code",
   "execution_count": 4,
   "id": "42c81841",
   "metadata": {
    "scrolled": false
   },
   "outputs": [
    {
     "data": {
      "text/plain": [
       "array(['No', 'No', 'No', ..., 'No', 'No', 'No'], dtype=object)"
      ]
     },
     "execution_count": 4,
     "metadata": {},
     "output_type": "execute_result"
    }
   ],
   "source": [
    "y = df.iloc[:, 0].values\n",
    "y"
   ]
  },
  {
   "cell_type": "markdown",
   "id": "9363ed21",
   "metadata": {},
   "source": [
    "# Encoding categofical data"
   ]
  },
  {
   "cell_type": "code",
   "execution_count": 5,
   "id": "26f41ddf",
   "metadata": {},
   "outputs": [],
   "source": [
    "from sklearn.compose import ColumnTransformer\n",
    "from sklearn.preprocessing import OneHotEncoder\n",
    "ct = ColumnTransformer(transformers=[('encoder', OneHotEncoder(), [0])], remainder='passthrough') #do onehotencode for the column 0 and passthrough for the remainder\n",
    "X = np.array(ct.fit_transform(X)) #Fit the ColumnTransformer and then make a numpy array"
   ]
  },
  {
   "cell_type": "markdown",
   "id": "a7bae0ac",
   "metadata": {},
   "source": [
    "# Encoding the dependent variable"
   ]
  },
  {
   "cell_type": "code",
   "execution_count": 6,
   "id": "63b3c96f",
   "metadata": {},
   "outputs": [],
   "source": [
    "from sklearn.preprocessing import LabelEncoder\n",
    "le = LabelEncoder() #create LabelEncoder\n",
    "y = le.fit_transform(y) #fit the LabelEncoder and then transform"
   ]
  },
  {
   "cell_type": "markdown",
   "id": "1a15c35a",
   "metadata": {},
   "source": [
    "# Splitting the dataset into the training set and test set"
   ]
  },
  {
   "cell_type": "code",
   "execution_count": 7,
   "id": "bff26437",
   "metadata": {},
   "outputs": [],
   "source": [
    "from sklearn.model_selection import train_test_split\n",
    "X_train, X_test, y_train, y_test = train_test_split(X, y, test_size = 0.2, random_state = 1234)"
   ]
  },
  {
   "cell_type": "markdown",
   "id": "2386ca30",
   "metadata": {},
   "source": [
    "# Feature scaling"
   ]
  },
  {
   "cell_type": "code",
   "execution_count": 8,
   "id": "275fd104",
   "metadata": {},
   "outputs": [],
   "source": [
    "from sklearn.preprocessing import StandardScaler\n",
    "sc = StandardScaler()\n",
    "X_train[:, 2:] = sc.fit_transform(X_train[:, 2:]) #train x and fit the model using transform \n",
    "X_test[:, 2:] = sc.transform(X_test[:, 2:] ) "
   ]
  },
  {
   "cell_type": "markdown",
   "id": "63b3f3a1",
   "metadata": {},
   "source": [
    "# Training the logit model"
   ]
  },
  {
   "cell_type": "code",
   "execution_count": 9,
   "id": "4a381b84",
   "metadata": {
    "scrolled": false
   },
   "outputs": [],
   "source": [
    "from sklearn.linear_model import LogisticRegression\n",
    "clf0 = LogisticRegression(random_state=0).fit(X_train, y_train)"
   ]
  },
  {
   "cell_type": "code",
   "execution_count": 10,
   "id": "c0df5801",
   "metadata": {},
   "outputs": [],
   "source": [
    "y_pred = clf0.predict(X_test)"
   ]
  },
  {
   "cell_type": "code",
   "execution_count": 11,
   "id": "0a8a9f70",
   "metadata": {},
   "outputs": [
    {
     "name": "stdout",
     "output_type": "stream",
     "text": [
      "[[1924   10]\n",
      " [  44   22]]\n"
     ]
    },
    {
     "data": {
      "text/plain": [
       "0.973"
      ]
     },
     "execution_count": 11,
     "metadata": {},
     "output_type": "execute_result"
    }
   ],
   "source": [
    "from sklearn.metrics import confusion_matrix, accuracy_score\n",
    "cm = confusion_matrix(y_test, y_pred)\n",
    "print(cm)\n",
    "accuracy_score(y_test, y_pred)"
   ]
  },
  {
   "cell_type": "code",
   "execution_count": 12,
   "id": "1e301438",
   "metadata": {},
   "outputs": [
    {
     "data": {
      "text/plain": [
       "0.973"
      ]
     },
     "execution_count": 12,
     "metadata": {},
     "output_type": "execute_result"
    }
   ],
   "source": [
    "clf0.score(X_test, y_test)"
   ]
  },
  {
   "cell_type": "markdown",
   "id": "ef840422",
   "metadata": {},
   "source": [
    "# Training the logit model using regularization and cross-validation"
   ]
  },
  {
   "cell_type": "markdown",
   "id": "5cffadc6",
   "metadata": {},
   "source": [
    "## L1(Lasso) regression penalty \n"
   ]
  },
  {
   "cell_type": "markdown",
   "id": "addc9512",
   "metadata": {},
   "source": [
    "- the inverse of regularization strength (Cs)\n",
    "- the number of folds in cross-validation (Cv)\n",
    "- penalty\n",
    "- supported penalties (l1) by solver: __liblinear__, saga"
   ]
  },
  {
   "cell_type": "code",
   "execution_count": 13,
   "id": "30824723",
   "metadata": {},
   "outputs": [],
   "source": [
    "from sklearn.linear_model import LogisticRegressionCV\n",
    "clf1 = LogisticRegressionCV(Cs = [.01], \n",
    "                            cv= 5, \n",
    "                            penalty = 'l1',\n",
    "                            solver='liblinear',\n",
    "                            max_iter=1000,\n",
    "                            random_state=0).fit(X_train, y_train)"
   ]
  },
  {
   "cell_type": "code",
   "execution_count": 14,
   "id": "4a0356ae",
   "metadata": {},
   "outputs": [],
   "source": [
    "y_pred = clf1.predict(X_test)"
   ]
  },
  {
   "cell_type": "code",
   "execution_count": 15,
   "id": "761801ee",
   "metadata": {},
   "outputs": [
    {
     "name": "stdout",
     "output_type": "stream",
     "text": [
      "[[1932    2]\n",
      " [  63    3]]\n"
     ]
    },
    {
     "data": {
      "text/plain": [
       "0.9675"
      ]
     },
     "execution_count": 15,
     "metadata": {},
     "output_type": "execute_result"
    }
   ],
   "source": [
    "from sklearn.metrics import confusion_matrix, accuracy_score\n",
    "cm = confusion_matrix(y_test, y_pred)\n",
    "print(cm)\n",
    "accuracy_score(y_test, y_pred)"
   ]
  },
  {
   "cell_type": "code",
   "execution_count": 16,
   "id": "9d52f4f6",
   "metadata": {},
   "outputs": [
    {
     "data": {
      "text/plain": [
       "0.9675"
      ]
     },
     "execution_count": 16,
     "metadata": {},
     "output_type": "execute_result"
    }
   ],
   "source": [
    "clf1.score(X_test, y_test)"
   ]
  },
  {
   "cell_type": "code",
   "execution_count": null,
   "id": "83b1c5a2",
   "metadata": {},
   "outputs": [],
   "source": []
  },
  {
   "cell_type": "markdown",
   "id": "2cca8e22",
   "metadata": {},
   "source": [
    "## L2(Ridge) regression penalty "
   ]
  },
  {
   "cell_type": "markdown",
   "id": "710d16bd",
   "metadata": {},
   "source": [
    "- the inverse of regularization strength (Cs)\n",
    "- the number of folds in cross-validation (Cv)\n",
    "- penalty\n",
    "- supported penalties (l2) by solver: __lbfgs__, liblinear, newton-cg, newton-cholesky, sag, saga"
   ]
  },
  {
   "cell_type": "code",
   "execution_count": 17,
   "id": "56d44b0a",
   "metadata": {},
   "outputs": [],
   "source": [
    "from sklearn.linear_model import LogisticRegressionCV\n",
    "clf2 = LogisticRegressionCV(Cs = [.001], \n",
    "                            cv = 7, \n",
    "                            penalty = 'l2', \n",
    "                            random_state=0, \n",
    "                            solver='lbfgs', \n",
    "                            max_iter=1000).fit(X_train, y_train)"
   ]
  },
  {
   "cell_type": "code",
   "execution_count": 18,
   "id": "eda195f8",
   "metadata": {},
   "outputs": [],
   "source": [
    "y_pred = clf2.predict(X_test)"
   ]
  },
  {
   "cell_type": "code",
   "execution_count": 19,
   "id": "f391fe77",
   "metadata": {},
   "outputs": [
    {
     "name": "stdout",
     "output_type": "stream",
     "text": [
      "[[1934    0]\n",
      " [  66    0]]\n"
     ]
    },
    {
     "data": {
      "text/plain": [
       "0.967"
      ]
     },
     "execution_count": 19,
     "metadata": {},
     "output_type": "execute_result"
    }
   ],
   "source": [
    "from sklearn.metrics import confusion_matrix, accuracy_score\n",
    "cm = confusion_matrix(y_test, y_pred)\n",
    "print(cm)\n",
    "accuracy_score(y_test, y_pred)"
   ]
  },
  {
   "cell_type": "code",
   "execution_count": 20,
   "id": "3603f04d",
   "metadata": {
    "scrolled": true
   },
   "outputs": [
    {
     "data": {
      "text/plain": [
       "0.967"
      ]
     },
     "execution_count": 20,
     "metadata": {},
     "output_type": "execute_result"
    }
   ],
   "source": [
    "clf2.score(X_test, y_test)"
   ]
  },
  {
   "cell_type": "markdown",
   "id": "9c977b2f",
   "metadata": {},
   "source": [
    "- As we play with the regularization tool (type, strength, solver) and the number of folds in K-fold cross-validation, the bigger regression coefficients are penalized. And the model's accuracy becomes smaller (0.973 -> 0.9675 -> 0.967), i.e. regularized. \n",
    "- In this case, the inverse of regularization strength (Cs) is critical. "
   ]
  },
  {
   "cell_type": "markdown",
   "id": "4c7a2b52",
   "metadata": {},
   "source": [
    "## The combilation of L1 and L2: Elastic-Net mixing parameter"
   ]
  },
  {
   "cell_type": "markdown",
   "id": "635a3251",
   "metadata": {},
   "source": [
    "- The list of Elastic-Net mixing parameter, with 0 <= l1_ratio <= 1. Only used if penalty='elasticnet'. A value of 0 is equivalent to using penalty='l2', while 1 is equivalent to using penalty='l1'. For 0 < l1_ratio <1, the penalty is a combination of L1 and L2."
   ]
  },
  {
   "cell_type": "code",
   "execution_count": 21,
   "id": "6afde8f7",
   "metadata": {},
   "outputs": [],
   "source": [
    "from sklearn.linear_model import LogisticRegressionCV\n",
    "clf3 = LogisticRegressionCV(Cs = 1, \n",
    "                            cv = 7, \n",
    "                            penalty = 'elasticnet', \n",
    "                            random_state=0, \n",
    "                            solver='saga', \n",
    "                            l1_ratios=np.append(np.arange(0.01,1,0.1),[1]),\n",
    "                            max_iter=1000).fit(X_train, y_train)"
   ]
  },
  {
   "cell_type": "code",
   "execution_count": 22,
   "id": "b9288863",
   "metadata": {},
   "outputs": [],
   "source": [
    "y_pred = clf3.predict(X_test)"
   ]
  },
  {
   "cell_type": "code",
   "execution_count": 23,
   "id": "16f2eebb",
   "metadata": {},
   "outputs": [
    {
     "name": "stdout",
     "output_type": "stream",
     "text": [
      "[[1934    0]\n",
      " [  66    0]]\n"
     ]
    },
    {
     "data": {
      "text/plain": [
       "0.967"
      ]
     },
     "execution_count": 23,
     "metadata": {},
     "output_type": "execute_result"
    }
   ],
   "source": [
    "from sklearn.metrics import confusion_matrix, accuracy_score\n",
    "cm = confusion_matrix(y_test, y_pred)\n",
    "print(cm)\n",
    "accuracy_score(y_test, y_pred)"
   ]
  },
  {
   "cell_type": "code",
   "execution_count": 24,
   "id": "e96981cf",
   "metadata": {
    "scrolled": true
   },
   "outputs": [
    {
     "data": {
      "text/plain": [
       "0.967"
      ]
     },
     "execution_count": 24,
     "metadata": {},
     "output_type": "execute_result"
    }
   ],
   "source": [
    "clf3.score(X_test, y_test)"
   ]
  },
  {
   "cell_type": "markdown",
   "id": "033f63b7",
   "metadata": {},
   "source": [
    "- We now can get the accuracy score of 0.967 only with Cs = 1, i.e. with the smaller regularization strength (because it's inverse). \n",
    "- With Cs = 10 (default), we gain the exactly same accuracy of the first model, 0.973. "
   ]
  },
  {
   "cell_type": "code",
   "execution_count": 25,
   "id": "cdd32893",
   "metadata": {},
   "outputs": [],
   "source": [
    "from sklearn.linear_model import LogisticRegressionCV\n",
    "clf4 = LogisticRegressionCV(Cs = 10, \n",
    "                            cv = 7, \n",
    "                            penalty = 'elasticnet', \n",
    "                            random_state=0, \n",
    "                            solver='saga', \n",
    "                            l1_ratios=np.append(np.arange(0.01,1,0.1),[1]),\n",
    "                            max_iter=1000).fit(X_train, y_train)"
   ]
  },
  {
   "cell_type": "code",
   "execution_count": 26,
   "id": "ef802250",
   "metadata": {},
   "outputs": [],
   "source": [
    "y_pred = clf4.predict(X_test)"
   ]
  },
  {
   "cell_type": "code",
   "execution_count": 27,
   "id": "90569cd4",
   "metadata": {},
   "outputs": [
    {
     "name": "stdout",
     "output_type": "stream",
     "text": [
      "[[1924   10]\n",
      " [  44   22]]\n"
     ]
    },
    {
     "data": {
      "text/plain": [
       "0.973"
      ]
     },
     "execution_count": 27,
     "metadata": {},
     "output_type": "execute_result"
    }
   ],
   "source": [
    "from sklearn.metrics import confusion_matrix, accuracy_score\n",
    "cm = confusion_matrix(y_test, y_pred)\n",
    "print(cm)\n",
    "accuracy_score(y_test, y_pred)"
   ]
  },
  {
   "cell_type": "code",
   "execution_count": 29,
   "id": "f3fffdc2",
   "metadata": {
    "scrolled": true
   },
   "outputs": [
    {
     "data": {
      "text/plain": [
       "0.973"
      ]
     },
     "execution_count": 29,
     "metadata": {},
     "output_type": "execute_result"
    }
   ],
   "source": [
    "clf4.score(X_test, y_test)"
   ]
  }
 ],
 "metadata": {
  "kernelspec": {
   "display_name": "Python 3 (ipykernel)",
   "language": "python",
   "name": "python3"
  },
  "language_info": {
   "codemirror_mode": {
    "name": "ipython",
    "version": 3
   },
   "file_extension": ".py",
   "mimetype": "text/x-python",
   "name": "python",
   "nbconvert_exporter": "python",
   "pygments_lexer": "ipython3",
   "version": "3.9.15"
  },
  "toc": {
   "base_numbering": 1,
   "nav_menu": {},
   "number_sections": true,
   "sideBar": true,
   "skip_h1_title": false,
   "title_cell": "Table of Contents",
   "title_sidebar": "Contents",
   "toc_cell": false,
   "toc_position": {},
   "toc_section_display": true,
   "toc_window_display": true
  }
 },
 "nbformat": 4,
 "nbformat_minor": 5
}
